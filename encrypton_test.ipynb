{
 "cells": [
  {
   "cell_type": "code",
   "execution_count": 1,
   "metadata": {},
   "outputs": [
    {
     "name": "stdout",
     "output_type": "stream",
     "text": [
      "/bin/sh: pip: command not found\r\n"
     ]
    }
   ],
   "source": [
    "# !pip or pip3 install bcrypt"
   ]
  },
  {
   "cell_type": "code",
   "execution_count": 4,
   "metadata": {},
   "outputs": [
    {
     "name": "stdout",
     "output_type": "stream",
     "text": [
      "········\n",
      "Step 1 password\n",
      "Step 2 b'password'\n",
      "Step 3 b'$2b$12$wJafxUZSYmtbZxvCsZH1du6uvgB1PMPOFMwquSvvPhpxIKDkzAKdm'\n",
      "Step 4 $2b$12$wJafxUZSYmtbZxvCsZH1du6uvgB1PMPOFMwquSvvPhpxIKDkzAKdm\n",
      "········\n",
      "Step 5 password\n",
      "Step 6 b'password'\n",
      "Step 7 b'$2b$12$wJafxUZSYmtbZxvCsZH1du6uvgB1PMPOFMwquSvvPhpxIKDkzAKdm'\n",
      "It Matches!\n"
     ]
    }
   ],
   "source": [
    "import bcrypt\n",
    "from getpass import getpass\n",
    "password2 = getpass()\n",
    "print(\"Step 1\",password2)\n",
    "password2 = password2.encode('UTF-8')\n",
    "print(\"Step 2\",password2)\n",
    "# Hash a password for the first time, with a randomly-generated salt\n",
    "hashed = bcrypt.hashpw(password2, bcrypt.gensalt())\n",
    "print(\"Step 3\",hashed)\n",
    "print(\"Step 4\",hashed.decode('UTF-8'))\n",
    "# Check that an unhashed password matches one that has previously been\n",
    "# hashed\n",
    "password = getpass()\n",
    "print(\"Step 5\",password)\n",
    "password = password.encode('UTF-8')\n",
    "print(\"Step 6\",password)\n",
    "print(\"Step 7\",hashed)\n",
    "if bcrypt.checkpw(password, hashed):\n",
    "    print(\"It Matches!\")\n",
    "else:\n",
    "    print(\"It Does not Match :(\")\n"
   ]
  },
  {
   "cell_type": "code",
   "execution_count": 2,
   "metadata": {},
   "outputs": [
    {
     "name": "stdout",
     "output_type": "stream",
     "text": [
      "$2b$12$njAYhoTjpQifu8F33l9uJe/4aJxDI722U5awzWLavJAFK0XRAymQm\n",
      "It Matches!\n"
     ]
    }
   ],
   "source": [
    "import bcrypt\n",
    "password = b\"super secret password\"\n",
    "# Hash a password for the first time, with a randomly-generated salt\n",
    "hashed = bcrypt.hashpw(password, bcrypt.gensalt())\n",
    "print(hashed.decode('UTF-8'))\n",
    "# Check that an unhashed password matches one that has previously been\n",
    "# hashed\n",
    "if bcrypt.checkpw(password, hashed):\n",
    "    print(\"It Matches!\")\n",
    "else:\n",
    "    print(\"It Does not Match :(\")"
   ]
  },
  {
   "cell_type": "code",
   "execution_count": null,
   "metadata": {},
   "outputs": [],
   "source": []
  }
 ],
 "metadata": {
  "kernelspec": {
   "display_name": "Python 3",
   "language": "python",
   "name": "python3"
  },
  "language_info": {
   "codemirror_mode": {
    "name": "ipython",
    "version": 3
   },
   "file_extension": ".py",
   "mimetype": "text/x-python",
   "name": "python",
   "nbconvert_exporter": "python",
   "pygments_lexer": "ipython3",
   "version": "3.6.8"
  }
 },
 "nbformat": 4,
 "nbformat_minor": 2
}
